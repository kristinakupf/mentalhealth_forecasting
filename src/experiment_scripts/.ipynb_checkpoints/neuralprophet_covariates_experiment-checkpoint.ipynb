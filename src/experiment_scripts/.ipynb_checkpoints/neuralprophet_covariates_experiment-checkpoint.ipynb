{
 "cells": [
  {
   "cell_type": "code",
   "execution_count": null,
   "metadata": {},
   "outputs": [],
   "source": [
    "import numpy as np\n",
    "import pandas as pd\n",
    "import pathlib\n",
    "import plotly.graph_objects as go\n",
    "from neuralprophet import NeuralProphet\n",
    "\n",
    "from sktime.forecasting.base import ForecastingHorizon"
   ]
  },
  {
   "cell_type": "markdown",
   "metadata": {},
   "source": [
    "# Multivariate neural prophet\n",
    "Use NeuralProphet to generate baseline quantile forecasts. "
   ]
  },
  {
   "cell_type": "code",
   "execution_count": null,
   "metadata": {},
   "outputs": [],
   "source": [
    "# EXPERIMENT_NAME = \"neuralprophet_covariates\"\n",
    "\n",
    "# EXPERIMENT_NAME = \"neuralprophet_covariates_onlyclimate\"\n",
    "\n",
    "EXPERIMENT_NAME = \"neuralprophet_covariates_noclimate\""
   ]
  },
  {
   "cell_type": "code",
   "execution_count": null,
   "metadata": {},
   "outputs": [],
   "source": [
    "#Collect FRED related datasets \n",
    "all_data = pd.read_csv(\"./datasets/all_data.csv\", index_col=0)\n",
    "all_data.index = pd.to_datetime(all_data.index)\n",
    "\n",
    "#Get climate related covariates to add in\n",
    "climate_data = pd.read_csv('./data_files/climate_vars.csv')\n",
    "climate_data['date'] = pd.to_datetime(climate_data['date'])\n",
    "climate_data = climate_data.set_index('date')\n",
    "\n",
    "#Combine the two sources of covariates\n",
    "covariates_all = all_data.join(climate_data, how='left')\n",
    "    \n",
    "covariates_all\n"
   ]
  },
  {
   "cell_type": "markdown",
   "metadata": {},
   "source": [
    "## Forecasting function\n",
    "\n",
    "AutoARIMA is a univariate forecasting method. This function expects that `df` has a time series index (monthly samples) and the target data column is the 0th index in the dataframe (see cell line 15)."
   ]
  },
  {
   "cell_type": "code",
   "execution_count": null,
   "metadata": {},
   "outputs": [],
   "source": [
    "def reformat_outputs(df):\n",
    "    print(category)\n",
    "    return df.rename(columns={'ds':'REF_DATE', 'y':category}).set_index('REF_DATE')\n",
    "\n",
    "def format_neuralprophet_inputs(df):\n",
    "    #Modify to act as an input to neural prophet \n",
    "#     cat_name = str.split(category, '_x')[0]\n",
    "    cat_name = category\n",
    "\n",
    "    print(cat_name)\n",
    "    return df.reset_index().rename(columns={'index':'ds', cat_name:'y'})\n",
    "\n",
    "def get_forecast_NP_monthly(\n",
    "    df,\n",
    "    covariates,\n",
    "    context_length,\n",
    "    prediction_length,\n",
    "    cutoff_date,\n",
    "):\n",
    "        \n",
    "    #Establish cutoff date\n",
    "    if cutoff_date is None:\n",
    "        date = df.index[-1]\n",
    "    else:    \n",
    "        date = pd.to_datetime(cutoff_date)\n",
    "        print('cutoff date is {}'.format(date))\n",
    "    \n",
    "    \n",
    "    #Combine food category dataframe and covariates\n",
    "    df = covariates\n",
    "#     df = df.join(df, covariates, how ='left')\n",
    "\n",
    "    #Resample to be monthly\n",
    "    df = df.resample('MS').mean().interpolate()\n",
    "    quantiles = [0.01, 0.05, 0.1, 0.25, 0.75, 0.9, 0.95, 0.99]\n",
    "    fh = ForecastingHorizon(list(range(1, prediction_length + 1)))\n",
    "    \n",
    "    context_df = df.loc[df.index <= date]\n",
    "\n",
    "    if 'ds' not in df:\n",
    "        context_df = format_neuralprophet_inputs(context_df) #Format inputs for neural prophet\n",
    "\n",
    "\n",
    "    #Initialize the neural prophet model\n",
    "    model = NeuralProphet(\n",
    "        n_lags = context_length,\n",
    "        n_forecasts=prediction_length,\n",
    "        quantiles=quantiles\n",
    "    )\n",
    "    \n",
    "    # Add each column (except 'y') as a regressor\n",
    "    for covariate in context_df.columns:\n",
    "        if covariate not in ['ds', 'y']:\n",
    "            model.add_lagged_regressor(covariate, n_lags=n_lags)\n",
    "\n",
    "    #Fit NP model \n",
    "    \n",
    "    print(context_df.columns)\n",
    "    model.fit(context_df, freq=\"M\")\n",
    "\n",
    "\n",
    "    #Make predictions using quantiles\n",
    "    np_future_df = model.make_future_dataframe(context_df, periods=prediction_length)\n",
    "    fc_series = model.predict(np_future_df, decompose=False, raw=False)\n",
    "\n",
    "    fc_series\n",
    "\n",
    "    #Format quantile-based outputs to be consistent with other experiments \n",
    "    all_quantiles= {}\n",
    "    all_pred = pd.DataFrame\n",
    "    pred_num = prediction_length-1\n",
    "    for pred_num in range(1,prediction_length+1):\n",
    "        all_quantiles= {}\n",
    "        for q in quantiles:\n",
    "            all_quantiles[f\"q_{q}\"] = (fc_series['yhat{} {}%'.format(pred_num,q*100)])\n",
    "            all_quantiles[f\"q_{0.5}\"] = (fc_series['yhat{}'.format(pred_num)])\n",
    "\n",
    "            check = pd.DataFrame(all_quantiles)\n",
    "            check = check[check.notna().all(axis=1)]\n",
    "\n",
    "        if pred_num == 1: #First run through\n",
    "            all_pred = check\n",
    "        else: #All subsequent runs\n",
    "            all_pred = all_pred.append(check, ignore_index=True)\n",
    "\n",
    "    forecast_min_date = date + pd.DateOffset(months=1)\n",
    "    forecast_max_date = date + pd.DateOffset(months=1 * prediction_length + 1)\n",
    "    forecast_date_index = pd.date_range(\n",
    "        forecast_min_date, forecast_max_date, freq=\"1M\"\n",
    "    )\n",
    "\n",
    "    forecast_df = pd.DataFrame(all_pred).set_index(\n",
    "        forecast_date_index\n",
    "    ).resample('MS').mean()\n",
    "\n",
    "    forecast_df = forecast_df[sorted(forecast_df.columns)]\n",
    "\n",
    "    context_df = context_df.loc[context_df.ds >= (date - pd.DateOffset(months=context_length))]\n",
    "\n",
    "    if 'ds' in context_df.columns: #Reformat outputs to match other models\n",
    "        context_df = reformat_outputs(context_df)\n",
    "\n",
    "    return context_df, forecast_df"
   ]
  },
  {
   "cell_type": "markdown",
   "metadata": {},
   "source": [
    "## Load data\n",
    "\n",
    "Since this is a simple univariate / autoregressive model, we're only loading the 'target' CPI variables here."
   ]
  },
  {
   "cell_type": "code",
   "execution_count": null,
   "metadata": {},
   "outputs": [],
   "source": [
    "foodprice_df = pd.read_csv(\"./datasets/food_CPI.csv\", index_col=0)\n",
    "foodprice_df.index = pd.to_datetime(foodprice_df.index)\n",
    "foodprice_df.tail()"
   ]
  },
  {
   "cell_type": "code",
   "execution_count": null,
   "metadata": {},
   "outputs": [],
   "source": [
    "# foodprice_df = foodprice_df.merge(all_data, left_index=True, right_index=True, how='left')\n",
    "# foodprice_df.tail()"
   ]
  },
  {
   "cell_type": "code",
   "execution_count": null,
   "metadata": {
    "scrolled": true
   },
   "outputs": [],
   "source": [
    "target_categories = foodprice_df.columns.to_list()\n",
    "target_categories"
   ]
  },
  {
   "cell_type": "markdown",
   "metadata": {},
   "source": [
    "## Define experiment cutoff dates\n",
    "\n",
    "Our experiment design uses 6 annual cutoff dates that simulate the generation of forecast once per year over the last 6 years. We'll comsume data up to each cutoff date to fit/train models, and then evaluate over the next 18 months. In this notebook, we're only concerned with producing the retrospective forecasts and we'll do the analysis all together in another notebook."
   ]
  },
  {
   "cell_type": "code",
   "execution_count": null,
   "metadata": {},
   "outputs": [],
   "source": [
    "report_sim_dates = open(\"./data_files/experiment_cutoff_dates.txt\", 'r').read().split()\n",
    "report_sim_dates"
   ]
  },
  {
   "cell_type": "markdown",
   "metadata": {},
   "source": [
    "## Plot forecast range with context\n",
    "\n",
    "We could add different elements to plots including some error analysis, emphasis on different quantiles, etc."
   ]
  },
  {
   "cell_type": "code",
   "execution_count": null,
   "metadata": {},
   "outputs": [],
   "source": [
    "import matplotlib.pyplot as plt\n",
    "import matplotlib.dates as mdates\n",
    "\n",
    "def plot_quantile_forecast(category, context_df, forecast_df, actual_df, cutoff_date, save_path=None, show_plots=True):\n",
    "\n",
    "    fig, ax = plt.subplots(figsize=(10,6))\n",
    "\n",
    "    # Context\n",
    "    context_df = pd.concat((context_df, actual_df))\n",
    "    ax.plot(context_df.index, context_df.values, color='black', label='Historical CPI')\n",
    "\n",
    "    # Confidence range between 0.01 and 0.99 quantiles\n",
    "    ax.fill_between(\n",
    "        forecast_df.index,\n",
    "        forecast_df[f\"q_0.05\"],\n",
    "        forecast_df[f\"q_0.95\"],\n",
    "        facecolor='purple',\n",
    "        alpha=0.5,\n",
    "        label='95% Confidence'\n",
    "    )\n",
    "\n",
    "    # Add a line trace for the median\n",
    "    ax.plot(forecast_df.index, forecast_df[f\"q_0.5\"], color='purple', label='Median Forecast')\n",
    "\n",
    "    # Update the layout as needed\n",
    "    ax.set_title(f'{category}\\nRetrospective Forecast - {cutoff_date}')\n",
    "    ax.set_xlabel('Date')\n",
    "    ax.set_ylabel('CPI (% 2002 Prices)')\n",
    "    ax.axvline(pd.to_datetime(cutoff_date), label=\"Cutoff Date\", color='black', ls='--', ms=1, alpha=0.5)\n",
    "    ax.legend()\n",
    "    ax.xaxis.set_major_locator(mdates.YearLocator())\n",
    "    ax.xaxis.set_major_formatter(mdates.DateFormatter('%Y'))\n",
    "    plt.xticks(rotation=45)\n",
    "\n",
    "    # Show the figure\n",
    "    plt.grid(axis='y')\n",
    "\n",
    "    if show_plots:\n",
    "        plt.show()\n",
    "\n",
    "    # Save the figure if the path is specified\n",
    "    if save_path:\n",
    "        fig.savefig(save_path, dpi=300 if save_path.endswith(\"png\") else None) # High res for png\n"
   ]
  },
  {
   "cell_type": "markdown",
   "metadata": {},
   "source": [
    "## Main experiment loop"
   ]
  },
  {
   "cell_type": "code",
   "execution_count": null,
   "metadata": {},
   "outputs": [],
   "source": [
    "for cutoff_date in report_sim_dates:\n",
    "    forecast_output_dir = f\"./output/experiments/{EXPERIMENT_NAME}/{cutoff_date}/forecasts\"\n",
    "    plot_output_dir = f\"./output/experiments/{EXPERIMENT_NAME}/{cutoff_date}/plots\"\n",
    "    pathlib.Path(forecast_output_dir).mkdir(parents=True, exist_ok=True)\n",
    "    pathlib.Path(plot_output_dir).mkdir(parents=True, exist_ok=True)\n",
    "    for category in target_categories:\n",
    "        if 'onlyclimate' in EXPERIMENT_NAME:\n",
    "            covariates = covariates_all[climate_data.columns.values]\n",
    "            n_lags = 6\n",
    "        if 'noclimate' in EXPERIMENT_NAME:\n",
    "            covariates = covariates_all[all_data.columns.values]\n",
    "            n_lags=12\n",
    "        covariates[category] = covariates_all[[category]]\n",
    "\n",
    "        context_df, forecast_df = get_forecast_NP_monthly(\n",
    "            foodprice_df[[category]],  # Indexing this way to get a dataframe with 1 column as opposed to a series\n",
    "            covariates,                #Context df with covariates\n",
    "            context_length=12*15,      # Context length \n",
    "            prediction_length=18,\n",
    "            cutoff_date=cutoff_date    # Training / fitting cutoff date\n",
    "        )\n",
    "        forecast_df.to_csv(f\"{forecast_output_dir}/{category}.csv\")\n",
    "        plot_quantile_forecast(\n",
    "            category=category,         # The target category name\n",
    "            context_df=context_df,     # Historical data to plot\n",
    "            forecast_df=forecast_df,   # Quantile forecast dataframe\n",
    "            actual_df=foodprice_df[category].loc[[date for date in forecast_df.index if date in foodprice_df.index]], # 'actual' data to plot against forecast\n",
    "            save_path=f\"{plot_output_dir}/{category}.svg\", \n",
    "            cutoff_date=cutoff_date,\n",
    "            show_plots=False\n",
    "        )"
   ]
  },
  {
   "cell_type": "code",
   "execution_count": null,
   "metadata": {},
   "outputs": [],
   "source": []
  }
 ],
 "metadata": {
  "kernelspec": {
   "display_name": "Newest-NP",
   "language": "python",
   "name": "new_env"
  },
  "language_info": {
   "codemirror_mode": {
    "name": "ipython",
    "version": 3
   },
   "file_extension": ".py",
   "mimetype": "text/x-python",
   "name": "python",
   "nbconvert_exporter": "python",
   "pygments_lexer": "ipython3",
   "version": "3.8.0"
  }
 },
 "nbformat": 4,
 "nbformat_minor": 2
}
