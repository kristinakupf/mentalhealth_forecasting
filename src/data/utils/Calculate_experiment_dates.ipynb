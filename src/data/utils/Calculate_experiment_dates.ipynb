{
 "cells": [
  {
   "cell_type": "code",
   "execution_count": 1,
   "id": "fallen-jimmy",
   "metadata": {},
   "outputs": [],
   "source": [
    "import pandas as pd\n"
   ]
  },
  {
   "cell_type": "code",
   "execution_count": 3,
   "id": "outer-client",
   "metadata": {},
   "outputs": [
    {
     "data": {
      "text/plain": [
       "['2020-03-01',\n",
       " '2020-09-27',\n",
       " '2021-03-14',\n",
       " '2021-09-05',\n",
       " '2021-12-12',\n",
       " '2022-04-03',\n",
       " '2022-07-31']"
      ]
     },
     "execution_count": 3,
     "metadata": {},
     "output_type": "execute_result"
    }
   ],
   "source": [
    "report_sim_dates = open(\"./experiment_cutoff_dates.txt\", 'r').read().split()\n",
    "report_sim_dates\n",
    "\n",
    "# start_date = pd.to_datetime(cutoff_date) + pd.DateOffset(weeks=week) - pd.DateOffset(weeks=prediction_length) \n"
   ]
  },
  {
   "cell_type": "code",
   "execution_count": 7,
   "id": "israeli-powder",
   "metadata": {},
   "outputs": [
    {
     "data": {
      "text/html": [
       "<div>\n",
       "<style scoped>\n",
       "    .dataframe tbody tr th:only-of-type {\n",
       "        vertical-align: middle;\n",
       "    }\n",
       "\n",
       "    .dataframe tbody tr th {\n",
       "        vertical-align: top;\n",
       "    }\n",
       "\n",
       "    .dataframe thead th {\n",
       "        text-align: right;\n",
       "    }\n",
       "</style>\n",
       "<table border=\"1\" class=\"dataframe\">\n",
       "  <thead>\n",
       "    <tr style=\"text-align: right;\">\n",
       "      <th></th>\n",
       "      <th>Test Start Date</th>\n",
       "      <th>Test End Date</th>\n",
       "      <th>Train Start Date</th>\n",
       "      <th>Train End Date</th>\n",
       "    </tr>\n",
       "  </thead>\n",
       "  <tbody>\n",
       "    <tr>\n",
       "      <th>0</th>\n",
       "      <td>2020-03-01</td>\n",
       "      <td>2020-08-30</td>\n",
       "      <td>2019-03-03</td>\n",
       "      <td>2020-02-23</td>\n",
       "    </tr>\n",
       "    <tr>\n",
       "      <th>1</th>\n",
       "      <td>2020-09-27</td>\n",
       "      <td>2021-03-28</td>\n",
       "      <td>2019-09-29</td>\n",
       "      <td>2020-09-20</td>\n",
       "    </tr>\n",
       "    <tr>\n",
       "      <th>2</th>\n",
       "      <td>2021-03-14</td>\n",
       "      <td>2021-09-12</td>\n",
       "      <td>2020-03-15</td>\n",
       "      <td>2021-03-07</td>\n",
       "    </tr>\n",
       "    <tr>\n",
       "      <th>3</th>\n",
       "      <td>2021-09-05</td>\n",
       "      <td>2022-03-06</td>\n",
       "      <td>2020-09-06</td>\n",
       "      <td>2021-08-29</td>\n",
       "    </tr>\n",
       "    <tr>\n",
       "      <th>4</th>\n",
       "      <td>2021-12-12</td>\n",
       "      <td>2022-06-12</td>\n",
       "      <td>2020-12-13</td>\n",
       "      <td>2021-12-05</td>\n",
       "    </tr>\n",
       "    <tr>\n",
       "      <th>5</th>\n",
       "      <td>2022-04-03</td>\n",
       "      <td>2022-10-02</td>\n",
       "      <td>2021-04-04</td>\n",
       "      <td>2022-03-27</td>\n",
       "    </tr>\n",
       "    <tr>\n",
       "      <th>6</th>\n",
       "      <td>2022-07-31</td>\n",
       "      <td>2023-01-29</td>\n",
       "      <td>2021-08-01</td>\n",
       "      <td>2022-07-24</td>\n",
       "    </tr>\n",
       "  </tbody>\n",
       "</table>\n",
       "</div>"
      ],
      "text/plain": [
       "  Test Start Date Test End Date Train Start Date Train End Date\n",
       "0      2020-03-01    2020-08-30       2019-03-03     2020-02-23\n",
       "1      2020-09-27    2021-03-28       2019-09-29     2020-09-20\n",
       "2      2021-03-14    2021-09-12       2020-03-15     2021-03-07\n",
       "3      2021-09-05    2022-03-06       2020-09-06     2021-08-29\n",
       "4      2021-12-12    2022-06-12       2020-12-13     2021-12-05\n",
       "5      2022-04-03    2022-10-02       2021-04-04     2022-03-27\n",
       "6      2022-07-31    2023-01-29       2021-08-01     2022-07-24"
      ]
     },
     "execution_count": 7,
     "metadata": {},
     "output_type": "execute_result"
    }
   ],
   "source": [
    "\n",
    "# Creating a DataFrame\n",
    "df = pd.DataFrame({'Test Start Date': report_sim_dates})\n",
    "\n",
    "# Convert 'Test Start Date' to datetime\n",
    "df['Test Start Date'] = pd.to_datetime(df['Test Start Date'])\n",
    "\n",
    "# Calculating other dates based on 'Test Start Date'\n",
    "df['Test End Date'] = df['Test Start Date'] + pd.Timedelta(weeks=26)\n",
    "df['Train Start Date'] = df['Test Start Date'] - pd.Timedelta(weeks=52)\n",
    "df['Train End Date'] = df['Test Start Date'] - pd.Timedelta(weeks=1)\n",
    "\n",
    "df"
   ]
  },
  {
   "cell_type": "code",
   "execution_count": null,
   "id": "motivated-shoot",
   "metadata": {},
   "outputs": [],
   "source": []
  }
 ],
 "metadata": {
  "kernelspec": {
   "display_name": "Python (3.10)",
   "language": "python",
   "name": "np_new"
  },
  "language_info": {
   "codemirror_mode": {
    "name": "ipython",
    "version": 3
   },
   "file_extension": ".py",
   "mimetype": "text/x-python",
   "name": "python",
   "nbconvert_exporter": "python",
   "pygments_lexer": "ipython3",
   "version": "3.10.9"
  }
 },
 "nbformat": 4,
 "nbformat_minor": 5
}
